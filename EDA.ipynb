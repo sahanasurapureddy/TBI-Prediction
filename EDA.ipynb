{
  "nbformat": 4,
  "nbformat_minor": 0,
  "metadata": {
    "colab": {
      "provenance": []
    },
    "kernelspec": {
      "name": "python3",
      "display_name": "Python 3"
    },
    "language_info": {
      "name": "python"
    }
  },
  "cells": [
    {
      "cell_type": "code",
      "execution_count": null,
      "metadata": {
        "id": "QAPfIRlDrOr-"
      },
      "outputs": [],
      "source": [
        "import os\n",
        "import pandas as pd\n",
        "\n"
      ]
    },
    {
      "cell_type": "code",
      "source": [
        "from google.colab import drive\n",
        "drive.mount('/content/drive')"
      ],
      "metadata": {
        "colab": {
          "base_uri": "https://localhost:8080/"
        },
        "id": "RWO-Iy9TQLvd",
        "outputId": "8b193bc2-580c-47b7-fd72-077e55dd7645"
      },
      "execution_count": null,
      "outputs": [
        {
          "output_type": "stream",
          "name": "stdout",
          "text": [
            "Mounted at /content/drive\n"
          ]
        }
      ]
    },
    {
      "cell_type": "code",
      "source": [
        "import os\n",
        "TBI_Pos = '/content/drive/MyDrive/TBI-Pos'\n",
        "TBI_Neg = '/content/drive/MyDrive/TBI-Neg'"
      ],
      "metadata": {
        "id": "_y10C6OKQadn"
      },
      "execution_count": null,
      "outputs": []
    },
    {
      "cell_type": "code",
      "source": [
        "print('Checking for null values in TBI-Pos Data:')\n",
        "for file_name in os.listdir(TBI_Pos):\n",
        "    if file_name.endswith('.csv'):\n",
        "        file_path = os.path.join(TBI_Pos, file_name)\n",
        "        df = pd.read_csv(file_path)\n",
        "        if df.isnull().values.any():\n",
        "            print(f'{file_name} has null values')\n",
        "        else:\n",
        "            print(f'{file_name} has no null values')"
      ],
      "metadata": {
        "colab": {
          "base_uri": "https://localhost:8080/"
        },
        "id": "RZaVq_iuQklC",
        "outputId": "7708f175-d25d-44fb-9fb3-8f267d42d05d"
      },
      "execution_count": null,
      "outputs": [
        {
          "output_type": "stream",
          "name": "stdout",
          "text": [
            "Checking for null values in TBI-Pos Data:\n",
            "117-DOD-tts_all.csv has no null values\n",
            "110-DOD-tts_all.csv has no null values\n",
            "108-DOD-tts_all.csv has no null values\n",
            "114-DOD-tts_all.csv has no null values\n",
            "112-DOD-tts_all.csv has no null values\n",
            "104-DOD-tts_all.csv has no null values\n",
            "106-DOD-tts_all.csv has no null values\n",
            "101-DOD-tts_all.csv has no null values\n",
            "115-DOD-tts_all.csv has no null values\n",
            "109-DOD-tts_all.csv has no null values\n",
            "118-DOD-tts_all.csv has no null values\n",
            "111-DOD-tts_all.csv has no null values\n",
            "102-DOD-tts_all.csv has no null values\n",
            "113-DOD-tts_all.csv has no null values\n",
            "123-DOD-tts_all.csv has no null values\n",
            "124-DOD-tts_all.csv has no null values\n",
            "120-DOD-tts_all.csv has no null values\n",
            "122-DOD-tts_all.csv has no null values\n",
            "121-DOD-tts_all.csv has no null values\n",
            "103-DOD-tts_all.csv has no null values\n"
          ]
        }
      ]
    },
    {
      "cell_type": "code",
      "source": [
        "print('Checking for null values in TBI-Neg Data:')\n",
        "for file_name in os.listdir(TBI_Neg):\n",
        "    if file_name.endswith('.csv'):\n",
        "        file_path = os.path.join(TBI_Neg, file_name)\n",
        "        df = pd.read_csv(file_path)\n",
        "        if df.isnull().values.any():\n",
        "            print(f'{file_name} has null values')\n",
        "        else:\n",
        "            print(f'{file_name} has no null values')"
      ],
      "metadata": {
        "colab": {
          "base_uri": "https://localhost:8080/"
        },
        "id": "s2xDXYHPRKmo",
        "outputId": "34a81917-02f9-4ad8-dd57-2ce077c7c8b9"
      },
      "execution_count": null,
      "outputs": [
        {
          "output_type": "stream",
          "name": "stdout",
          "text": [
            "Checking for null values in TBI-Neg Data:\n",
            "204-DOD-tts_all.csv has no null values\n",
            "209-DOD-tts_all.csv has no null values\n",
            "202-DOD-tts_all.csv has no null values\n",
            "203-DOD-tts_all.csv has no null values\n",
            "212-DOD-tts_all.csv has no null values\n",
            "205-DOD-tts_all.csv has no null values\n",
            "211-DOD-tts_all.csv has no null values\n",
            "207-DOD-tts_all.csv has no null values\n",
            "210-DOD-tts_all.csv has no null values\n",
            "206-DOD-tts_all.csv has no null values\n",
            "213-DOD-tts_all.csv has no null values\n",
            "215-DOD-tts_all.csv has no null values\n",
            "217-DOD-tts_all.csv has no null values\n",
            "218-DOD-tts_all.csv has no null values\n",
            "214-DOD-tts_all.csv has no null values\n",
            "216-DOD-tts_all.csv has no null values\n"
          ]
        }
      ]
    }
  ]
}